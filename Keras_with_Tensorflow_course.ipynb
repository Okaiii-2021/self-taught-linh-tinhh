{
  "nbformat": 4,
  "nbformat_minor": 0,
  "metadata": {
    "colab": {
      "name": "Keras_with_Tensorflow_course.ipynb",
      "provenance": [],
      "mount_file_id": "1N4YDv9jt4TbOeANH78IbL6uF7OcrRCWx",
      "authorship_tag": "ABX9TyMh7zQ9TvJNVkQIUpj84z8V",
      "include_colab_link": true
    },
    "kernelspec": {
      "name": "python3",
      "display_name": "Python 3"
    },
    "language_info": {
      "name": "python"
    }
  },
  "cells": [
    {
      "cell_type": "markdown",
      "metadata": {
        "id": "view-in-github",
        "colab_type": "text"
      },
      "source": [
        "<a href=\"https://colab.research.google.com/github/Okaiii-2021/self-taught-linh-tinhh/blob/main/Keras_with_Tensorflow_course.ipynb\" target=\"_parent\"><img src=\"https://colab.research.google.com/assets/colab-badge.svg\" alt=\"Open In Colab\"/></a>"
      ]
    },
    {
      "cell_type": "markdown",
      "metadata": {
        "id": "iCYmlt-hvZXZ"
      },
      "source": [
        "## Import resources"
      ]
    },
    {
      "cell_type": "code",
      "metadata": {
        "colab": {
          "base_uri": "https://localhost:8080/"
        },
        "id": "v5wuV8L_b7ft",
        "outputId": "71a8bf7c-59fa-4d2b-f143-7450dfdfb960"
      },
      "source": [
        "from google.colab import drive\n",
        "drive.mount('/content/gdrive')"
      ],
      "execution_count": null,
      "outputs": [
        {
          "output_type": "stream",
          "name": "stdout",
          "text": [
            "Mounted at /content/gdrive\n"
          ]
        }
      ]
    },
    {
      "cell_type": "code",
      "metadata": {
        "id": "mrpAUKYjuUZW"
      },
      "source": [
        "import numpy as np \n",
        "from random import randint\n",
        "from sklearn.utils import shuffle\n",
        "from sklearn.preprocessing import MinMaxScaler"
      ],
      "execution_count": null,
      "outputs": []
    },
    {
      "cell_type": "code",
      "metadata": {
        "id": "2LvOd45IvFRN"
      },
      "source": [
        ""
      ],
      "execution_count": null,
      "outputs": []
    },
    {
      "cell_type": "markdown",
      "metadata": {
        "id": "HTkXNDVkwJKd"
      },
      "source": [
        "##  Create a Dataset"
      ]
    },
    {
      "cell_type": "code",
      "metadata": {
        "id": "c-OJIoefvMXh"
      },
      "source": [
        "# create holders\n",
        "train_labels = []\n",
        "train_samples = []\n",
        "for i in range(50):\n",
        "  # ~ 5% of younger individuals who did experience side effects\n",
        "  random_younger = randint(13,64)\n",
        "  train_samples.append(random_younger)\n",
        "  train_labels.append(1)\n",
        "\n",
        "  # ~ 5% of older individuals who did NOT experience side effects\n",
        "  random_older = randint(65,100)\n",
        "  train_samples.append(random_older)\n",
        "  train_labels.append(0)\n",
        "\n",
        "\n",
        "for i in range (1000):\n",
        " # ~95% of younger who did not experience side effects\n",
        "  random_younger = randint(13,64)\n",
        "  train_samples.append(random_younger)\n",
        "  train_labels.append(0)\n",
        "\n",
        "  andom_older = randint(65,100)\n",
        "  train_samples.append(random_older)\n",
        "  train_labels.append(1)\n",
        "\n"
      ],
      "execution_count": null,
      "outputs": []
    },
    {
      "cell_type": "code",
      "metadata": {
        "id": "Yx9SLLib2qge"
      },
      "source": [
        ""
      ],
      "execution_count": null,
      "outputs": []
    },
    {
      "cell_type": "code",
      "metadata": {
        "colab": {
          "base_uri": "https://localhost:8080/"
        },
        "id": "dGSi08uX3r4R",
        "outputId": "54033245-cb4e-4a2a-a3dc-48112a524130"
      },
      "source": [
        "print(type(train_labels))"
      ],
      "execution_count": null,
      "outputs": [
        {
          "output_type": "stream",
          "name": "stdout",
          "text": [
            "<class 'list'>\n"
          ]
        }
      ]
    },
    {
      "cell_type": "code",
      "metadata": {
        "id": "iyPxDh5zJzGV"
      },
      "source": [
        "# change type  from \"list\" tp \"array\"\n",
        "\n",
        "train_labels = np.array(train_labels)\n",
        "train_samples = np.array(train_samples)\n",
        "train_labels, train_samples = shuffle(train_labels, train_samples)\n"
      ],
      "execution_count": null,
      "outputs": []
    },
    {
      "cell_type": "code",
      "metadata": {
        "id": "-EaI-e0mRBCB"
      },
      "source": [
        "# normalize -> rescale the train_samples\n",
        "scaler = MinMaxScaler(feature_range=(0,1))\n",
        "scaled_train_samples = scaler.fit_transform(train_samples.reshape(-1,1))"
      ],
      "execution_count": null,
      "outputs": []
    },
    {
      "cell_type": "markdown",
      "metadata": {
        "id": "f63uRw0DTVoK"
      },
      "source": [
        "# Create Sequentail model with tf.keras\n"
      ]
    },
    {
      "cell_type": "code",
      "metadata": {
        "id": "duJQUuYsSUOn"
      },
      "source": [
        "import tensorflow as tf \n",
        "from tensorflow import keras \n",
        "from tensorflow.keras.models import Sequential\n",
        "from tensorflow.keras.layers import Activation, Dense\n",
        "from tensorflow.keras.optimizers import Adam\n",
        "from tensorflow.keras.metrics import categorical_crossentropy\n"
      ],
      "execution_count": null,
      "outputs": []
    },
    {
      "cell_type": "code",
      "metadata": {
        "id": "7mp-Q17SSXni"
      },
      "source": [
        "model = Sequential([\n",
        "    Dense(16, input_shape=(1,), activation = \"relu\"),\n",
        "    Dense(units=32,  activation = \"relu\"),\n",
        "    Dense(units= 2, activation = \"softmax\")     \n",
        "])"
      ],
      "execution_count": null,
      "outputs": []
    },
    {
      "cell_type": "code",
      "metadata": {
        "colab": {
          "base_uri": "https://localhost:8080/"
        },
        "id": "WxZLDnZ5Xesf",
        "outputId": "b1f27346-bdba-4c1b-ce99-c202fd0d7158"
      },
      "source": [
        "model.summary()"
      ],
      "execution_count": null,
      "outputs": [
        {
          "output_type": "stream",
          "name": "stdout",
          "text": [
            "Model: \"sequential\"\n",
            "_________________________________________________________________\n",
            "Layer (type)                 Output Shape              Param #   \n",
            "=================================================================\n",
            "dense (Dense)                (None, 16)                32        \n",
            "_________________________________________________________________\n",
            "dense_1 (Dense)              (None, 32)                544       \n",
            "_________________________________________________________________\n",
            "dense_2 (Dense)              (None, 2)                 66        \n",
            "=================================================================\n",
            "Total params: 642\n",
            "Trainable params: 642\n",
            "Non-trainable params: 0\n",
            "_________________________________________________________________\n"
          ]
        }
      ]
    },
    {
      "cell_type": "markdown",
      "metadata": {
        "id": "z-pp6iREX3wi"
      },
      "source": [
        "## Train model"
      ]
    },
    {
      "cell_type": "code",
      "metadata": {
        "id": "e6fQ8R7-Xs7F"
      },
      "source": [
        "# add optimizer + loss + learning rate to the model \n",
        "model.compile(optimizer=Adam(learning_rate=0.0001), loss = \"sparse_categorical_crossentropy\", metrics=[\"accuracy\"])"
      ],
      "execution_count": null,
      "outputs": []
    },
    {
      "cell_type": "code",
      "metadata": {
        "colab": {
          "base_uri": "https://localhost:8080/"
        },
        "id": "YQbVO6c9ZXP_",
        "outputId": "2db6649e-4bba-45e6-c20a-97caf0463cd5"
      },
      "source": [
        "#start the traing prcess\n",
        "model.fit(x = scaled_train_samples, y = train_labels, validation_split = 0.1,batch_size=10, epochs=30, shuffle=True, verbose=2 )"
      ],
      "execution_count": null,
      "outputs": [
        {
          "output_type": "stream",
          "name": "stdout",
          "text": [
            "Epoch 1/30\n",
            "189/189 - 0s - loss: 0.2332 - accuracy: 0.9497 - val_loss: 0.1735 - val_accuracy: 0.9714\n",
            "Epoch 2/30\n",
            "189/189 - 0s - loss: 0.2320 - accuracy: 0.9503 - val_loss: 0.1713 - val_accuracy: 0.9714\n",
            "Epoch 3/30\n",
            "189/189 - 0s - loss: 0.2309 - accuracy: 0.9503 - val_loss: 0.1694 - val_accuracy: 0.9714\n",
            "Epoch 4/30\n",
            "189/189 - 0s - loss: 0.2300 - accuracy: 0.9503 - val_loss: 0.1677 - val_accuracy: 0.9714\n",
            "Epoch 5/30\n",
            "189/189 - 0s - loss: 0.2293 - accuracy: 0.9503 - val_loss: 0.1662 - val_accuracy: 0.9714\n",
            "Epoch 6/30\n",
            "189/189 - 0s - loss: 0.2286 - accuracy: 0.9503 - val_loss: 0.1646 - val_accuracy: 0.9714\n",
            "Epoch 7/30\n",
            "189/189 - 0s - loss: 0.2278 - accuracy: 0.9503 - val_loss: 0.1632 - val_accuracy: 0.9714\n",
            "Epoch 8/30\n",
            "189/189 - 0s - loss: 0.2273 - accuracy: 0.9503 - val_loss: 0.1619 - val_accuracy: 0.9714\n",
            "Epoch 9/30\n",
            "189/189 - 0s - loss: 0.2267 - accuracy: 0.9503 - val_loss: 0.1608 - val_accuracy: 0.9714\n",
            "Epoch 10/30\n",
            "189/189 - 0s - loss: 0.2263 - accuracy: 0.9508 - val_loss: 0.1598 - val_accuracy: 0.9714\n",
            "Epoch 11/30\n",
            "189/189 - 0s - loss: 0.2259 - accuracy: 0.9508 - val_loss: 0.1589 - val_accuracy: 0.9714\n",
            "Epoch 12/30\n",
            "189/189 - 0s - loss: 0.2256 - accuracy: 0.9508 - val_loss: 0.1580 - val_accuracy: 0.9714\n",
            "Epoch 13/30\n",
            "189/189 - 0s - loss: 0.2252 - accuracy: 0.9503 - val_loss: 0.1572 - val_accuracy: 0.9714\n",
            "Epoch 14/30\n",
            "189/189 - 0s - loss: 0.2251 - accuracy: 0.9508 - val_loss: 0.1564 - val_accuracy: 0.9714\n",
            "Epoch 15/30\n",
            "189/189 - 0s - loss: 0.2247 - accuracy: 0.9508 - val_loss: 0.1557 - val_accuracy: 0.9714\n",
            "Epoch 16/30\n",
            "189/189 - 0s - loss: 0.2243 - accuracy: 0.9508 - val_loss: 0.1553 - val_accuracy: 0.9714\n",
            "Epoch 17/30\n",
            "189/189 - 0s - loss: 0.2241 - accuracy: 0.9508 - val_loss: 0.1545 - val_accuracy: 0.9714\n",
            "Epoch 18/30\n",
            "189/189 - 0s - loss: 0.2239 - accuracy: 0.9508 - val_loss: 0.1540 - val_accuracy: 0.9714\n",
            "Epoch 19/30\n",
            "189/189 - 0s - loss: 0.2237 - accuracy: 0.9508 - val_loss: 0.1537 - val_accuracy: 0.9714\n",
            "Epoch 20/30\n",
            "189/189 - 0s - loss: 0.2235 - accuracy: 0.9508 - val_loss: 0.1529 - val_accuracy: 0.9714\n",
            "Epoch 21/30\n",
            "189/189 - 0s - loss: 0.2234 - accuracy: 0.9508 - val_loss: 0.1526 - val_accuracy: 0.9714\n",
            "Epoch 22/30\n",
            "189/189 - 0s - loss: 0.2232 - accuracy: 0.9508 - val_loss: 0.1521 - val_accuracy: 0.9714\n",
            "Epoch 23/30\n",
            "189/189 - 0s - loss: 0.2229 - accuracy: 0.9508 - val_loss: 0.1518 - val_accuracy: 0.9714\n",
            "Epoch 24/30\n",
            "189/189 - 0s - loss: 0.2229 - accuracy: 0.9508 - val_loss: 0.1513 - val_accuracy: 0.9714\n",
            "Epoch 25/30\n",
            "189/189 - 0s - loss: 0.2227 - accuracy: 0.9508 - val_loss: 0.1510 - val_accuracy: 0.9714\n",
            "Epoch 26/30\n",
            "189/189 - 0s - loss: 0.2226 - accuracy: 0.9508 - val_loss: 0.1507 - val_accuracy: 0.9714\n",
            "Epoch 27/30\n",
            "189/189 - 0s - loss: 0.2225 - accuracy: 0.9508 - val_loss: 0.1503 - val_accuracy: 0.9714\n",
            "Epoch 28/30\n",
            "189/189 - 0s - loss: 0.2223 - accuracy: 0.9519 - val_loss: 0.1504 - val_accuracy: 0.9714\n",
            "Epoch 29/30\n",
            "189/189 - 0s - loss: 0.2222 - accuracy: 0.9508 - val_loss: 0.1498 - val_accuracy: 0.9714\n",
            "Epoch 30/30\n",
            "189/189 - 0s - loss: 0.2221 - accuracy: 0.9508 - val_loss: 0.1495 - val_accuracy: 0.9714\n"
          ]
        },
        {
          "output_type": "execute_result",
          "data": {
            "text/plain": [
              "<keras.callbacks.History at 0x7f8df387ee90>"
            ]
          },
          "metadata": {},
          "execution_count": 64
        }
      ]
    },
    {
      "cell_type": "code",
      "metadata": {
        "id": "AvziSCrZaUsF"
      },
      "source": [
        ""
      ],
      "execution_count": null,
      "outputs": []
    },
    {
      "cell_type": "markdown",
      "metadata": {
        "id": "bXcnk-HKhYde"
      },
      "source": [
        "## Predict model with test_set"
      ]
    },
    {
      "cell_type": "markdown",
      "metadata": {
        "id": "ArEZrcn8h1YA"
      },
      "source": [
        "### create test_set"
      ]
    },
    {
      "cell_type": "code",
      "metadata": {
        "id": "vm4dd7ezbYBx"
      },
      "source": [
        " # create holders\n",
        "test_labels = []\n",
        "test_samples = []\n",
        "for i in range(10):\n",
        "  # ~ 5% of younger individuals who did experience side effects\n",
        "  random_younger = randint(13,64)\n",
        "  test_samples.append(random_younger)\n",
        "  test_labels.append(1)\n",
        "\n",
        "  # ~ 5% of older individuals who did NOT experience side effects\n",
        "  random_older = randint(65,100)\n",
        "  test_samples.append(random_older)\n",
        "  test_labels.append(0)\n",
        "\n",
        "\n",
        "for i in range (200):\n",
        " # ~95% of younger who did not experience side effects\n",
        "  random_younger = randint(13,64)\n",
        "  test_samples.append(random_younger)\n",
        "  test_labels.append(0)\n",
        "\n",
        "  andom_older = randint(65,100)\n",
        "  test_samples.append(random_older)\n",
        "  test_labels.append(1)\n",
        "\n"
      ],
      "execution_count": null,
      "outputs": []
    },
    {
      "cell_type": "code",
      "metadata": {
        "id": "iXc8Dqf-izn2"
      },
      "source": [
        "test_labels = np.array(test_labels)\n",
        "test_samples = np.array(test_samples)\n",
        "test_labels, train_samples = shuffle(test_labels, test_samples)\n",
        "scaled_test_samples = scaler.fit_transform(test_samples.reshape(-1,1))"
      ],
      "execution_count": null,
      "outputs": []
    },
    {
      "cell_type": "markdown",
      "metadata": {
        "id": "aWHXBhjzjNz_"
      },
      "source": [
        "### Pedict"
      ]
    },
    {
      "cell_type": "code",
      "metadata": {
        "id": "mYQWA1q1jQwR"
      },
      "source": [
        "predictions = model.predict(x=scaled_test_samples, batch_size=10, verbose=0)"
      ],
      "execution_count": null,
      "outputs": []
    },
    {
      "cell_type": "code",
      "metadata": {
        "colab": {
          "base_uri": "https://localhost:8080/"
        },
        "id": "yoQ_KB0djfeT",
        "outputId": "a50413a7-adb5-4823-b570-0c7bdd1251ec"
      },
      "source": [
        "predictions[0:5,...]\n",
        "# index 0 -> no experience side effect (0)\n",
        "# index 1 -> experience side effect (1)"
      ],
      "execution_count": null,
      "outputs": [
        {
          "output_type": "execute_result",
          "data": {
            "text/plain": [
              "array([[0.9683787 , 0.03162121],\n",
              "       [0.09350999, 0.90649   ],\n",
              "       [0.9738599 , 0.02614015],\n",
              "       [0.4788814 , 0.5211186 ],\n",
              "       [0.97315323, 0.02684684]], dtype=float32)"
            ]
          },
          "metadata": {},
          "execution_count": 77
        }
      ]
    },
    {
      "cell_type": "code",
      "metadata": {
        "id": "rFzNcDBjjk4Q"
      },
      "source": [
        "rounded_predictions = np.argmax(predictions, axis =1 )"
      ],
      "execution_count": null,
      "outputs": []
    },
    {
      "cell_type": "code",
      "metadata": {
        "id": "QSNtixFsmZ0B"
      },
      "source": [
        "# for i in rounded_predictions:\n",
        "#   print(i)"
      ],
      "execution_count": null,
      "outputs": []
    },
    {
      "cell_type": "markdown",
      "metadata": {
        "id": "TjdE6airnYM-"
      },
      "source": [
        "### create confusion matrix -> observe the result from test_set"
      ]
    },
    {
      "cell_type": "code",
      "metadata": {
        "id": "vtcFojAYneWF"
      },
      "source": [
        "%matplotlib inline"
      ],
      "execution_count": null,
      "outputs": []
    },
    {
      "cell_type": "code",
      "metadata": {
        "id": "8ssRqQfunm6u"
      },
      "source": [
        "from sklearn.metrics import confusion_matrix\n",
        "import itertools\n",
        "import matplotlib.pyplot as plt\n"
      ],
      "execution_count": null,
      "outputs": []
    },
    {
      "cell_type": "code",
      "metadata": {
        "id": "BXzxloNln1V9"
      },
      "source": [
        "cm = confusion_matrix(y_true= test_labels, y_pred = rounded_predictions)"
      ],
      "execution_count": null,
      "outputs": []
    },
    {
      "cell_type": "code",
      "metadata": {
        "id": "DuJ-k0HEoG2i"
      },
      "source": [
        "# def plot_confusion_matrix(cm, classes, normalize = False, title = \"Confusion matrix\", cmap= plt.cm.Blues):\n",
        "#   \"\"\"\n",
        "#   This function prints and plots plots the confusion matrix.\n",
        "#   Normalization can be applied by setting normalize = True\n",
        "#   \"\"\"\n",
        "\n",
        "#   plt.imshow(cn, interpolation=\"nearest\", cmap=cmap)\n",
        "#   plt.title(title)\n",
        "#   plt.colorbar()\n",
        "#   tick_marks = np.arange(len(classes))\n",
        "#   plt.xticks(tick_marks, classes, rotation = 45)\n",
        "#   plt.yticks(tick_marks, classes)\n",
        "\n",
        "#   if normalize:\n",
        "#     cm = cm.astype(\"float\")/cm.sum(axis=1)[:, np.neaxis]\n",
        "#     print(\"Normalization confusion matrix)\")\n",
        "#   else:\n",
        "#     print(\"Confusion matrix, wihtout normalization\")\n",
        "#   print(cm)\n",
        "\n",
        "#   thrsh = cm.max/2\n",
        "#   for \n",
        "\n"
      ],
      "execution_count": null,
      "outputs": []
    },
    {
      "cell_type": "markdown",
      "metadata": {
        "id": "r0ZWhHnZsOtS"
      },
      "source": [
        "### Save and load data"
      ]
    },
    {
      "cell_type": "code",
      "metadata": {
        "colab": {
          "base_uri": "https://localhost:8080/"
        },
        "id": "tLboYXzxsSta",
        "outputId": "43076ac3-91b8-4171-943e-ebc67772c391"
      },
      "source": [
        "model.summary()"
      ],
      "execution_count": null,
      "outputs": [
        {
          "output_type": "stream",
          "name": "stdout",
          "text": [
            "Model: \"sequential\"\n",
            "_________________________________________________________________\n",
            "Layer (type)                 Output Shape              Param #   \n",
            "=================================================================\n",
            "dense (Dense)                (None, 16)                32        \n",
            "_________________________________________________________________\n",
            "dense_1 (Dense)              (None, 32)                544       \n",
            "_________________________________________________________________\n",
            "dense_2 (Dense)              (None, 2)                 66        \n",
            "=================================================================\n",
            "Total params: 642\n",
            "Trainable params: 642\n",
            "Non-trainable params: 0\n",
            "_________________________________________________________________\n"
          ]
        }
      ]
    },
    {
      "cell_type": "code",
      "metadata": {
        "id": "yQAX_R7it3-B"
      },
      "source": [
        "model.save(\"/content/gdrive/MyDrive/Colab Notebooks/medical_trial_model.h5\")"
      ],
      "execution_count": null,
      "outputs": []
    },
    {
      "cell_type": "code",
      "metadata": {
        "id": "ucgrxlKau3VJ"
      },
      "source": [
        "# load a predefined model\n",
        "from tensorflow.keras.models import load_model\n",
        "new_model = load_model(\"/content/gdrive/MyDrive/Colab Notebooks/medical_trial_model.h5\")"
      ],
      "execution_count": null,
      "outputs": []
    },
    {
      "cell_type": "code",
      "metadata": {
        "colab": {
          "base_uri": "https://localhost:8080/"
        },
        "id": "v5zzanhuu9QS",
        "outputId": "36aa3f7e-7f42-40b5-8df8-9730b52836b5"
      },
      "source": [
        "new_model.summary()"
      ],
      "execution_count": null,
      "outputs": [
        {
          "output_type": "stream",
          "name": "stdout",
          "text": [
            "Model: \"sequential\"\n",
            "_________________________________________________________________\n",
            "Layer (type)                 Output Shape              Param #   \n",
            "=================================================================\n",
            "dense (Dense)                (None, 16)                32        \n",
            "_________________________________________________________________\n",
            "dense_1 (Dense)              (None, 32)                544       \n",
            "_________________________________________________________________\n",
            "dense_2 (Dense)              (None, 2)                 66        \n",
            "=================================================================\n",
            "Total params: 642\n",
            "Trainable params: 642\n",
            "Non-trainable params: 0\n",
            "_________________________________________________________________\n"
          ]
        }
      ]
    },
    {
      "cell_type": "code",
      "metadata": {
        "colab": {
          "base_uri": "https://localhost:8080/"
        },
        "id": "5pxJYWhNvM-9",
        "outputId": "c785ca5d-7a15-4ca2-b9fe-e790df1370f1"
      },
      "source": [
        " new_model.optimizer"
      ],
      "execution_count": null,
      "outputs": [
        {
          "output_type": "execute_result",
          "data": {
            "text/plain": [
              "<keras.optimizer_v2.adam.Adam at 0x7f8df36bd510>"
            ]
          },
          "metadata": {},
          "execution_count": 104
        }
      ]
    },
    {
      "cell_type": "code",
      "metadata": {
        "id": "PIiQq49BvREZ"
      },
      "source": [
        ""
      ],
      "execution_count": null,
      "outputs": []
    }
  ]
}